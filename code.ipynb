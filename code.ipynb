{
 "cells": [
  {
   "cell_type": "markdown",
   "source": "**Proceso a Seguir**\n\n\n1.   Carga de Data\n2.   Pre Procesamiento de Datos\n3.   Analisis de Data\n4.   Separación de Datos de Entrenamiento y Prueba.\n5.   Construcción del Modelo\n6.   Evaluación del Modelo\n\n",
   "metadata": {
    "id": "ZI6o8kob09Hm",
    "cell_id": "00000-fa10afb9-f904-4e49-bcd2-4a7a1296a0b0",
    "deepnote_cell_type": "markdown"
   }
  },
  {
   "cell_type": "markdown",
   "source": "\nPassengerId: An unique index for passenger rows. It starts from 1 for first row and increments by 1 for every new rows.\n\nSurvived: Shows if the passenger survived or not. 1 stands for survived and 0 stands for not survived.\n\nPclass: Ticket class. 1 stands for First class ticket. 2 stands for Second class ticket. 3 stands for Third class ticket.\n\nName: Passenger's name. Name also contain title. \"Mr\" for man. \"Mrs\" for woman. \"Miss\" for girl. \"Master\" for boy.\n\nSex: Passenger's sex. It's either Male or Female.\n\nAge: Passenger's age. \"NaN\" values in this column indicates that the age of that particular passenger has not been recorded.\n\nSibSp: Number of siblings or spouses travelling with each passenger.\n\nParch: Number of parents of children travelling with each passenger.\nTicket: Ticket number.\nFare: How much money the passenger has paid for the travel journey.\nCabin: Cabin number of the passenger. \"NaN\" values in this column indicates that the cabin number of that particular passenger has not been recorded.\nEmbarked: Port from where the particular passenger was embarked/boarded.",
   "metadata": {
    "id": "qdtm2QojJk7b",
    "cell_id": "00001-1aa46a38-fc60-4e48-8f0c-b36d26feb4ee",
    "deepnote_cell_type": "markdown"
   }
  },
  {
   "cell_type": "code",
   "metadata": {
    "id": "b1VfxgW0rzMq",
    "cell_id": "00002-489ffd75-1c13-49f3-9596-beb289004cce",
    "deepnote_to_be_reexecuted": false,
    "source_hash": "3d936050",
    "execution_start": 1634861233649,
    "execution_millis": 1137,
    "deepnote_cell_type": "code"
   },
   "source": "#Importar dependencias necesarias  \nimport numpy as np\nimport pandas as pd\nimport matplotlib.pyplot as plt\nimport seaborn as sns\nfrom sklearn.model_selection import train_test_split\nfrom sklearn.linear_model import LogisticRegression\nfrom sklearn.metrics import accuracy_score",
   "execution_count": 1,
   "outputs": []
  },
  {
   "cell_type": "code",
   "metadata": {
    "id": "WCt63fEhsKIK",
    "cell_id": "00003-2ae97a1e-9880-45c1-a1ed-dc4701281c8e",
    "deepnote_to_be_reexecuted": false,
    "source_hash": "a6a902ca",
    "execution_start": 1634861234793,
    "execution_millis": 12,
    "deepnote_cell_type": "code"
   },
   "source": "#Carga de data\n# load the data from csv file to Pandas DataFrame\ntd = pd.read_csv('train.csv')",
   "execution_count": 2,
   "outputs": []
  },
  {
   "cell_type": "code",
   "metadata": {
    "colab": {
     "base_uri": "https://localhost:8080/",
     "height": 272
    },
    "id": "9Nbk0divscxO",
    "outputId": "87b3a863-e9b9-4512-8bc9-980c06ac1026",
    "cell_id": "00004-055e68c6-7b69-4c61-9d23-79d33b6c1153",
    "deepnote_to_be_reexecuted": false,
    "source_hash": "80f14b1",
    "execution_start": 1634861234850,
    "execution_millis": 29,
    "deepnote_cell_type": "code"
   },
   "source": "# Pre Procesamiento de Data \n#printing the first 5 rows of the dataframe\ntd.head()",
   "execution_count": 3,
   "outputs": [
    {
     "output_type": "execute_result",
     "execution_count": 3,
     "data": {
      "application/vnd.deepnote.dataframe.v2+json": {
       "row_count": 5,
       "column_count": 12,
       "columns": [
        {
         "name": "PassengerId",
         "dtype": "int64",
         "stats": {
          "unique_count": 5,
          "nan_count": 0,
          "min": "1",
          "max": "5",
          "histogram": [
           {
            "bin_start": 1,
            "bin_end": 1.4,
            "count": 1
           },
           {
            "bin_start": 1.4,
            "bin_end": 1.8,
            "count": 0
           },
           {
            "bin_start": 1.8,
            "bin_end": 2.2,
            "count": 1
           },
           {
            "bin_start": 2.2,
            "bin_end": 2.6,
            "count": 0
           },
           {
            "bin_start": 2.6,
            "bin_end": 3,
            "count": 0
           },
           {
            "bin_start": 3,
            "bin_end": 3.4000000000000004,
            "count": 1
           },
           {
            "bin_start": 3.4000000000000004,
            "bin_end": 3.8000000000000003,
            "count": 0
           },
           {
            "bin_start": 3.8000000000000003,
            "bin_end": 4.2,
            "count": 1
           },
           {
            "bin_start": 4.2,
            "bin_end": 4.6,
            "count": 0
           },
           {
            "bin_start": 4.6,
            "bin_end": 5,
            "count": 1
           }
          ]
         }
        },
        {
         "name": "Survived",
         "dtype": "int64",
         "stats": {
          "unique_count": 2,
          "nan_count": 0,
          "min": "0",
          "max": "1",
          "histogram": [
           {
            "bin_start": 0,
            "bin_end": 0.1,
            "count": 2
           },
           {
            "bin_start": 0.1,
            "bin_end": 0.2,
            "count": 0
           },
           {
            "bin_start": 0.2,
            "bin_end": 0.30000000000000004,
            "count": 0
           },
           {
            "bin_start": 0.30000000000000004,
            "bin_end": 0.4,
            "count": 0
           },
           {
            "bin_start": 0.4,
            "bin_end": 0.5,
            "count": 0
           },
           {
            "bin_start": 0.5,
            "bin_end": 0.6000000000000001,
            "count": 0
           },
           {
            "bin_start": 0.6000000000000001,
            "bin_end": 0.7000000000000001,
            "count": 0
           },
           {
            "bin_start": 0.7000000000000001,
            "bin_end": 0.8,
            "count": 0
           },
           {
            "bin_start": 0.8,
            "bin_end": 0.9,
            "count": 0
           },
           {
            "bin_start": 0.9,
            "bin_end": 1,
            "count": 3
           }
          ]
         }
        },
        {
         "name": "Pclass",
         "dtype": "int64",
         "stats": {
          "unique_count": 2,
          "nan_count": 0,
          "min": "1",
          "max": "3",
          "histogram": [
           {
            "bin_start": 1,
            "bin_end": 1.2,
            "count": 2
           },
           {
            "bin_start": 1.2,
            "bin_end": 1.4,
            "count": 0
           },
           {
            "bin_start": 1.4,
            "bin_end": 1.6,
            "count": 0
           },
           {
            "bin_start": 1.6,
            "bin_end": 1.8,
            "count": 0
           },
           {
            "bin_start": 1.8,
            "bin_end": 2,
            "count": 0
           },
           {
            "bin_start": 2,
            "bin_end": 2.2,
            "count": 0
           },
           {
            "bin_start": 2.2,
            "bin_end": 2.4000000000000004,
            "count": 0
           },
           {
            "bin_start": 2.4000000000000004,
            "bin_end": 2.6,
            "count": 0
           },
           {
            "bin_start": 2.6,
            "bin_end": 2.8,
            "count": 0
           },
           {
            "bin_start": 2.8,
            "bin_end": 3,
            "count": 3
           }
          ]
         }
        },
        {
         "name": "Name",
         "dtype": "object",
         "stats": {
          "unique_count": 5,
          "nan_count": 0,
          "categories": [
           {
            "name": "Braund, Mr. Owen Harris",
            "count": 1
           },
           {
            "name": "Cumings, Mrs. John Bradley (Florence Briggs Thayer)",
            "count": 1
           },
           {
            "name": "3 others",
            "count": 3
           }
          ]
         }
        },
        {
         "name": "Sex",
         "dtype": "object",
         "stats": {
          "unique_count": 2,
          "nan_count": 0,
          "categories": [
           {
            "name": "female",
            "count": 3
           },
           {
            "name": "male",
            "count": 2
           }
          ]
         }
        },
        {
         "name": "Age",
         "dtype": "float64",
         "stats": {
          "unique_count": 4,
          "nan_count": 0,
          "min": "22.0",
          "max": "38.0",
          "histogram": [
           {
            "bin_start": 22,
            "bin_end": 23.6,
            "count": 1
           },
           {
            "bin_start": 23.6,
            "bin_end": 25.2,
            "count": 0
           },
           {
            "bin_start": 25.2,
            "bin_end": 26.8,
            "count": 1
           },
           {
            "bin_start": 26.8,
            "bin_end": 28.4,
            "count": 0
           },
           {
            "bin_start": 28.4,
            "bin_end": 30,
            "count": 0
           },
           {
            "bin_start": 30,
            "bin_end": 31.6,
            "count": 0
           },
           {
            "bin_start": 31.6,
            "bin_end": 33.2,
            "count": 0
           },
           {
            "bin_start": 33.2,
            "bin_end": 34.8,
            "count": 0
           },
           {
            "bin_start": 34.8,
            "bin_end": 36.4,
            "count": 2
           },
           {
            "bin_start": 36.4,
            "bin_end": 38,
            "count": 1
           }
          ]
         }
        },
        {
         "name": "SibSp",
         "dtype": "int64",
         "stats": {
          "unique_count": 2,
          "nan_count": 0,
          "min": "0",
          "max": "1",
          "histogram": [
           {
            "bin_start": 0,
            "bin_end": 0.1,
            "count": 2
           },
           {
            "bin_start": 0.1,
            "bin_end": 0.2,
            "count": 0
           },
           {
            "bin_start": 0.2,
            "bin_end": 0.30000000000000004,
            "count": 0
           },
           {
            "bin_start": 0.30000000000000004,
            "bin_end": 0.4,
            "count": 0
           },
           {
            "bin_start": 0.4,
            "bin_end": 0.5,
            "count": 0
           },
           {
            "bin_start": 0.5,
            "bin_end": 0.6000000000000001,
            "count": 0
           },
           {
            "bin_start": 0.6000000000000001,
            "bin_end": 0.7000000000000001,
            "count": 0
           },
           {
            "bin_start": 0.7000000000000001,
            "bin_end": 0.8,
            "count": 0
           },
           {
            "bin_start": 0.8,
            "bin_end": 0.9,
            "count": 0
           },
           {
            "bin_start": 0.9,
            "bin_end": 1,
            "count": 3
           }
          ]
         }
        },
        {
         "name": "Parch",
         "dtype": "int64",
         "stats": {
          "unique_count": 1,
          "nan_count": 0,
          "min": "0",
          "max": "0",
          "histogram": [
           {
            "bin_start": -0.5,
            "bin_end": -0.4,
            "count": 0
           },
           {
            "bin_start": -0.4,
            "bin_end": -0.3,
            "count": 0
           },
           {
            "bin_start": -0.3,
            "bin_end": -0.19999999999999996,
            "count": 0
           },
           {
            "bin_start": -0.19999999999999996,
            "bin_end": -0.09999999999999998,
            "count": 0
           },
           {
            "bin_start": -0.09999999999999998,
            "bin_end": 0,
            "count": 0
           },
           {
            "bin_start": 0,
            "bin_end": 0.10000000000000009,
            "count": 5
           },
           {
            "bin_start": 0.10000000000000009,
            "bin_end": 0.20000000000000007,
            "count": 0
           },
           {
            "bin_start": 0.20000000000000007,
            "bin_end": 0.30000000000000004,
            "count": 0
           },
           {
            "bin_start": 0.30000000000000004,
            "bin_end": 0.4,
            "count": 0
           },
           {
            "bin_start": 0.4,
            "bin_end": 0.5,
            "count": 0
           }
          ]
         }
        },
        {
         "name": "Ticket",
         "dtype": "object",
         "stats": {
          "unique_count": 5,
          "nan_count": 0,
          "categories": [
           {
            "name": "A/5 21171",
            "count": 1
           },
           {
            "name": "PC 17599",
            "count": 1
           },
           {
            "name": "3 others",
            "count": 3
           }
          ]
         }
        },
        {
         "name": "Fare",
         "dtype": "float64",
         "stats": {
          "unique_count": 5,
          "nan_count": 0,
          "min": "7.25",
          "max": "71.2833",
          "histogram": [
           {
            "bin_start": 7.25,
            "bin_end": 13.65333,
            "count": 3
           },
           {
            "bin_start": 13.65333,
            "bin_end": 20.05666,
            "count": 0
           },
           {
            "bin_start": 20.05666,
            "bin_end": 26.459989999999998,
            "count": 0
           },
           {
            "bin_start": 26.459989999999998,
            "bin_end": 32.86332,
            "count": 0
           },
           {
            "bin_start": 32.86332,
            "bin_end": 39.26665,
            "count": 0
           },
           {
            "bin_start": 39.26665,
            "bin_end": 45.669979999999995,
            "count": 0
           },
           {
            "bin_start": 45.669979999999995,
            "bin_end": 52.07331,
            "count": 0
           },
           {
            "bin_start": 52.07331,
            "bin_end": 58.476639999999996,
            "count": 1
           },
           {
            "bin_start": 58.476639999999996,
            "bin_end": 64.87996999999999,
            "count": 0
           },
           {
            "bin_start": 64.87996999999999,
            "bin_end": 71.2833,
            "count": 1
           }
          ]
         }
        },
        {
         "name": "Cabin",
         "dtype": "object",
         "stats": {
          "unique_count": 2,
          "nan_count": 3,
          "categories": [
           {
            "name": "C85",
            "count": 1
           },
           {
            "name": "C123",
            "count": 1
           },
           {
            "name": "Missing",
            "count": 3
           }
          ]
         }
        },
        {
         "name": "Embarked",
         "dtype": "object",
         "stats": {
          "unique_count": 2,
          "nan_count": 0,
          "categories": [
           {
            "name": "S",
            "count": 4
           },
           {
            "name": "C",
            "count": 1
           }
          ]
         }
        },
        {
         "name": "_deepnote_index_column",
         "dtype": "int64"
        }
       ],
       "rows_top": [
        {
         "PassengerId": 1,
         "Survived": 0,
         "Pclass": 3,
         "Name": "Braund, Mr. Owen Harris",
         "Sex": "male",
         "Age": 22,
         "SibSp": 1,
         "Parch": 0,
         "Ticket": "A/5 21171",
         "Fare": 7.25,
         "Cabin": "nan",
         "Embarked": "S",
         "_deepnote_index_column": 0
        },
        {
         "PassengerId": 2,
         "Survived": 1,
         "Pclass": 1,
         "Name": "Cumings, Mrs. John Bradley (Florence Briggs Thayer)",
         "Sex": "female",
         "Age": 38,
         "SibSp": 1,
         "Parch": 0,
         "Ticket": "PC 17599",
         "Fare": 71.2833,
         "Cabin": "C85",
         "Embarked": "C",
         "_deepnote_index_column": 1
        },
        {
         "PassengerId": 3,
         "Survived": 1,
         "Pclass": 3,
         "Name": "Heikkinen, Miss. Laina",
         "Sex": "female",
         "Age": 26,
         "SibSp": 0,
         "Parch": 0,
         "Ticket": "STON/O2. 3101282",
         "Fare": 7.925,
         "Cabin": "nan",
         "Embarked": "S",
         "_deepnote_index_column": 2
        },
        {
         "PassengerId": 4,
         "Survived": 1,
         "Pclass": 1,
         "Name": "Futrelle, Mrs. Jacques Heath (Lily May Peel)",
         "Sex": "female",
         "Age": 35,
         "SibSp": 1,
         "Parch": 0,
         "Ticket": "113803",
         "Fare": 53.1,
         "Cabin": "C123",
         "Embarked": "S",
         "_deepnote_index_column": 3
        },
        {
         "PassengerId": 5,
         "Survived": 0,
         "Pclass": 3,
         "Name": "Allen, Mr. William Henry",
         "Sex": "male",
         "Age": 35,
         "SibSp": 0,
         "Parch": 0,
         "Ticket": "373450",
         "Fare": 8.05,
         "Cabin": "nan",
         "Embarked": "S",
         "_deepnote_index_column": 4
        }
       ],
       "rows_bottom": null
      },
      "text/plain": "   PassengerId  Survived  Pclass  \\\n0            1         0       3   \n1            2         1       1   \n2            3         1       3   \n3            4         1       1   \n4            5         0       3   \n\n                                                Name     Sex   Age  SibSp  \\\n0                            Braund, Mr. Owen Harris    male  22.0      1   \n1  Cumings, Mrs. John Bradley (Florence Briggs Th...  female  38.0      1   \n2                             Heikkinen, Miss. Laina  female  26.0      0   \n3       Futrelle, Mrs. Jacques Heath (Lily May Peel)  female  35.0      1   \n4                           Allen, Mr. William Henry    male  35.0      0   \n\n   Parch            Ticket     Fare Cabin Embarked  \n0      0         A/5 21171   7.2500   NaN        S  \n1      0          PC 17599  71.2833   C85        C  \n2      0  STON/O2. 3101282   7.9250   NaN        S  \n3      0            113803  53.1000  C123        S  \n4      0            373450   8.0500   NaN        S  ",
      "text/html": "<div>\n<style scoped>\n    .dataframe tbody tr th:only-of-type {\n        vertical-align: middle;\n    }\n\n    .dataframe tbody tr th {\n        vertical-align: top;\n    }\n\n    .dataframe thead th {\n        text-align: right;\n    }\n</style>\n<table border=\"1\" class=\"dataframe\">\n  <thead>\n    <tr style=\"text-align: right;\">\n      <th></th>\n      <th>PassengerId</th>\n      <th>Survived</th>\n      <th>Pclass</th>\n      <th>Name</th>\n      <th>Sex</th>\n      <th>Age</th>\n      <th>SibSp</th>\n      <th>Parch</th>\n      <th>Ticket</th>\n      <th>Fare</th>\n      <th>Cabin</th>\n      <th>Embarked</th>\n    </tr>\n  </thead>\n  <tbody>\n    <tr>\n      <th>0</th>\n      <td>1</td>\n      <td>0</td>\n      <td>3</td>\n      <td>Braund, Mr. Owen Harris</td>\n      <td>male</td>\n      <td>22.0</td>\n      <td>1</td>\n      <td>0</td>\n      <td>A/5 21171</td>\n      <td>7.2500</td>\n      <td>NaN</td>\n      <td>S</td>\n    </tr>\n    <tr>\n      <th>1</th>\n      <td>2</td>\n      <td>1</td>\n      <td>1</td>\n      <td>Cumings, Mrs. John Bradley (Florence Briggs Th...</td>\n      <td>female</td>\n      <td>38.0</td>\n      <td>1</td>\n      <td>0</td>\n      <td>PC 17599</td>\n      <td>71.2833</td>\n      <td>C85</td>\n      <td>C</td>\n    </tr>\n    <tr>\n      <th>2</th>\n      <td>3</td>\n      <td>1</td>\n      <td>3</td>\n      <td>Heikkinen, Miss. Laina</td>\n      <td>female</td>\n      <td>26.0</td>\n      <td>0</td>\n      <td>0</td>\n      <td>STON/O2. 3101282</td>\n      <td>7.9250</td>\n      <td>NaN</td>\n      <td>S</td>\n    </tr>\n    <tr>\n      <th>3</th>\n      <td>4</td>\n      <td>1</td>\n      <td>1</td>\n      <td>Futrelle, Mrs. Jacques Heath (Lily May Peel)</td>\n      <td>female</td>\n      <td>35.0</td>\n      <td>1</td>\n      <td>0</td>\n      <td>113803</td>\n      <td>53.1000</td>\n      <td>C123</td>\n      <td>S</td>\n    </tr>\n    <tr>\n      <th>4</th>\n      <td>5</td>\n      <td>0</td>\n      <td>3</td>\n      <td>Allen, Mr. William Henry</td>\n      <td>male</td>\n      <td>35.0</td>\n      <td>0</td>\n      <td>0</td>\n      <td>373450</td>\n      <td>8.0500</td>\n      <td>NaN</td>\n      <td>S</td>\n    </tr>\n  </tbody>\n</table>\n</div>"
     },
     "metadata": {}
    }
   ]
  },
  {
   "cell_type": "code",
   "metadata": {
    "colab": {
     "base_uri": "https://localhost:8080/"
    },
    "id": "akVOuaPXsgTJ",
    "outputId": "445df279-0b9c-46ad-8afa-abb803411ea6",
    "cell_id": "00005-b111255a-149c-4171-a92e-3310be6feef6",
    "deepnote_to_be_reexecuted": false,
    "source_hash": "957ca5fb",
    "execution_start": 1634861234897,
    "execution_millis": 185,
    "deepnote_cell_type": "code"
   },
   "source": "# number of rows and Columns\ntd.shape",
   "execution_count": 4,
   "outputs": [
    {
     "output_type": "execute_result",
     "execution_count": 4,
     "data": {
      "text/plain": "(891, 12)"
     },
     "metadata": {}
    }
   ]
  },
  {
   "cell_type": "code",
   "metadata": {
    "colab": {
     "base_uri": "https://localhost:8080/"
    },
    "id": "wqLGy5KszxR9",
    "outputId": "a087c7d0-92e5-45d4-d527-655beb1c10c1",
    "cell_id": "00006-a1cc5bc0-507f-4655-9832-a01ceb26fcc2",
    "deepnote_to_be_reexecuted": false,
    "source_hash": "4cced4c7",
    "execution_start": 1634861234924,
    "execution_millis": 160,
    "deepnote_cell_type": "code"
   },
   "source": "#Revisar datos nulos en cada columna  \ntd.isnull().sum()",
   "execution_count": 5,
   "outputs": [
    {
     "output_type": "execute_result",
     "execution_count": 5,
     "data": {
      "text/plain": "PassengerId      0\nSurvived         0\nPclass           0\nName             0\nSex              0\nAge            177\nSibSp            0\nParch            0\nTicket           0\nFare             0\nCabin          687\nEmbarked         2\ndtype: int64"
     },
     "metadata": {}
    }
   ]
  },
  {
   "cell_type": "code",
   "metadata": {
    "id": "T5BiaOKc0Fu4",
    "cell_id": "00007-c0c18fb6-6839-4861-ae9c-337a025d6c16",
    "deepnote_to_be_reexecuted": false,
    "source_hash": "e4649255",
    "execution_start": 1634861234952,
    "execution_millis": 1,
    "deepnote_cell_type": "code"
   },
   "source": "#Se elimina Columnas que no aportan mucha información al analisis\ntd = td.drop(columns=['Cabin','PassengerId','Name','Ticket'], axis=1)",
   "execution_count": 6,
   "outputs": []
  },
  {
   "cell_type": "code",
   "metadata": {
    "colab": {
     "base_uri": "https://localhost:8080/",
     "height": 204
    },
    "id": "QXfjm53P0WAd",
    "outputId": "7beb2707-e339-4f47-e796-d1943311c281",
    "cell_id": "00008-f275ce59-7c5c-4ef7-bf40-e53d328e1280",
    "deepnote_to_be_reexecuted": false,
    "source_hash": "bab7c922",
    "execution_start": 1634861235007,
    "execution_millis": 78,
    "deepnote_cell_type": "code"
   },
   "source": "#Se erevisa el cambio hecho\ntd.head()",
   "execution_count": 7,
   "outputs": [
    {
     "output_type": "execute_result",
     "execution_count": 7,
     "data": {
      "application/vnd.deepnote.dataframe.v2+json": {
       "row_count": 5,
       "column_count": 8,
       "columns": [
        {
         "name": "Survived",
         "dtype": "int64",
         "stats": {
          "unique_count": 2,
          "nan_count": 0,
          "min": "0",
          "max": "1",
          "histogram": [
           {
            "bin_start": 0,
            "bin_end": 0.1,
            "count": 2
           },
           {
            "bin_start": 0.1,
            "bin_end": 0.2,
            "count": 0
           },
           {
            "bin_start": 0.2,
            "bin_end": 0.30000000000000004,
            "count": 0
           },
           {
            "bin_start": 0.30000000000000004,
            "bin_end": 0.4,
            "count": 0
           },
           {
            "bin_start": 0.4,
            "bin_end": 0.5,
            "count": 0
           },
           {
            "bin_start": 0.5,
            "bin_end": 0.6000000000000001,
            "count": 0
           },
           {
            "bin_start": 0.6000000000000001,
            "bin_end": 0.7000000000000001,
            "count": 0
           },
           {
            "bin_start": 0.7000000000000001,
            "bin_end": 0.8,
            "count": 0
           },
           {
            "bin_start": 0.8,
            "bin_end": 0.9,
            "count": 0
           },
           {
            "bin_start": 0.9,
            "bin_end": 1,
            "count": 3
           }
          ]
         }
        },
        {
         "name": "Pclass",
         "dtype": "int64",
         "stats": {
          "unique_count": 2,
          "nan_count": 0,
          "min": "1",
          "max": "3",
          "histogram": [
           {
            "bin_start": 1,
            "bin_end": 1.2,
            "count": 2
           },
           {
            "bin_start": 1.2,
            "bin_end": 1.4,
            "count": 0
           },
           {
            "bin_start": 1.4,
            "bin_end": 1.6,
            "count": 0
           },
           {
            "bin_start": 1.6,
            "bin_end": 1.8,
            "count": 0
           },
           {
            "bin_start": 1.8,
            "bin_end": 2,
            "count": 0
           },
           {
            "bin_start": 2,
            "bin_end": 2.2,
            "count": 0
           },
           {
            "bin_start": 2.2,
            "bin_end": 2.4000000000000004,
            "count": 0
           },
           {
            "bin_start": 2.4000000000000004,
            "bin_end": 2.6,
            "count": 0
           },
           {
            "bin_start": 2.6,
            "bin_end": 2.8,
            "count": 0
           },
           {
            "bin_start": 2.8,
            "bin_end": 3,
            "count": 3
           }
          ]
         }
        },
        {
         "name": "Sex",
         "dtype": "object",
         "stats": {
          "unique_count": 2,
          "nan_count": 0,
          "categories": [
           {
            "name": "female",
            "count": 3
           },
           {
            "name": "male",
            "count": 2
           }
          ]
         }
        },
        {
         "name": "Age",
         "dtype": "float64",
         "stats": {
          "unique_count": 4,
          "nan_count": 0,
          "min": "22.0",
          "max": "38.0",
          "histogram": [
           {
            "bin_start": 22,
            "bin_end": 23.6,
            "count": 1
           },
           {
            "bin_start": 23.6,
            "bin_end": 25.2,
            "count": 0
           },
           {
            "bin_start": 25.2,
            "bin_end": 26.8,
            "count": 1
           },
           {
            "bin_start": 26.8,
            "bin_end": 28.4,
            "count": 0
           },
           {
            "bin_start": 28.4,
            "bin_end": 30,
            "count": 0
           },
           {
            "bin_start": 30,
            "bin_end": 31.6,
            "count": 0
           },
           {
            "bin_start": 31.6,
            "bin_end": 33.2,
            "count": 0
           },
           {
            "bin_start": 33.2,
            "bin_end": 34.8,
            "count": 0
           },
           {
            "bin_start": 34.8,
            "bin_end": 36.4,
            "count": 2
           },
           {
            "bin_start": 36.4,
            "bin_end": 38,
            "count": 1
           }
          ]
         }
        },
        {
         "name": "SibSp",
         "dtype": "int64",
         "stats": {
          "unique_count": 2,
          "nan_count": 0,
          "min": "0",
          "max": "1",
          "histogram": [
           {
            "bin_start": 0,
            "bin_end": 0.1,
            "count": 2
           },
           {
            "bin_start": 0.1,
            "bin_end": 0.2,
            "count": 0
           },
           {
            "bin_start": 0.2,
            "bin_end": 0.30000000000000004,
            "count": 0
           },
           {
            "bin_start": 0.30000000000000004,
            "bin_end": 0.4,
            "count": 0
           },
           {
            "bin_start": 0.4,
            "bin_end": 0.5,
            "count": 0
           },
           {
            "bin_start": 0.5,
            "bin_end": 0.6000000000000001,
            "count": 0
           },
           {
            "bin_start": 0.6000000000000001,
            "bin_end": 0.7000000000000001,
            "count": 0
           },
           {
            "bin_start": 0.7000000000000001,
            "bin_end": 0.8,
            "count": 0
           },
           {
            "bin_start": 0.8,
            "bin_end": 0.9,
            "count": 0
           },
           {
            "bin_start": 0.9,
            "bin_end": 1,
            "count": 3
           }
          ]
         }
        },
        {
         "name": "Parch",
         "dtype": "int64",
         "stats": {
          "unique_count": 1,
          "nan_count": 0,
          "min": "0",
          "max": "0",
          "histogram": [
           {
            "bin_start": -0.5,
            "bin_end": -0.4,
            "count": 0
           },
           {
            "bin_start": -0.4,
            "bin_end": -0.3,
            "count": 0
           },
           {
            "bin_start": -0.3,
            "bin_end": -0.19999999999999996,
            "count": 0
           },
           {
            "bin_start": -0.19999999999999996,
            "bin_end": -0.09999999999999998,
            "count": 0
           },
           {
            "bin_start": -0.09999999999999998,
            "bin_end": 0,
            "count": 0
           },
           {
            "bin_start": 0,
            "bin_end": 0.10000000000000009,
            "count": 5
           },
           {
            "bin_start": 0.10000000000000009,
            "bin_end": 0.20000000000000007,
            "count": 0
           },
           {
            "bin_start": 0.20000000000000007,
            "bin_end": 0.30000000000000004,
            "count": 0
           },
           {
            "bin_start": 0.30000000000000004,
            "bin_end": 0.4,
            "count": 0
           },
           {
            "bin_start": 0.4,
            "bin_end": 0.5,
            "count": 0
           }
          ]
         }
        },
        {
         "name": "Fare",
         "dtype": "float64",
         "stats": {
          "unique_count": 5,
          "nan_count": 0,
          "min": "7.25",
          "max": "71.2833",
          "histogram": [
           {
            "bin_start": 7.25,
            "bin_end": 13.65333,
            "count": 3
           },
           {
            "bin_start": 13.65333,
            "bin_end": 20.05666,
            "count": 0
           },
           {
            "bin_start": 20.05666,
            "bin_end": 26.459989999999998,
            "count": 0
           },
           {
            "bin_start": 26.459989999999998,
            "bin_end": 32.86332,
            "count": 0
           },
           {
            "bin_start": 32.86332,
            "bin_end": 39.26665,
            "count": 0
           },
           {
            "bin_start": 39.26665,
            "bin_end": 45.669979999999995,
            "count": 0
           },
           {
            "bin_start": 45.669979999999995,
            "bin_end": 52.07331,
            "count": 0
           },
           {
            "bin_start": 52.07331,
            "bin_end": 58.476639999999996,
            "count": 1
           },
           {
            "bin_start": 58.476639999999996,
            "bin_end": 64.87996999999999,
            "count": 0
           },
           {
            "bin_start": 64.87996999999999,
            "bin_end": 71.2833,
            "count": 1
           }
          ]
         }
        },
        {
         "name": "Embarked",
         "dtype": "object",
         "stats": {
          "unique_count": 2,
          "nan_count": 0,
          "categories": [
           {
            "name": "S",
            "count": 4
           },
           {
            "name": "C",
            "count": 1
           }
          ]
         }
        },
        {
         "name": "_deepnote_index_column",
         "dtype": "int64"
        }
       ],
       "rows_top": [
        {
         "Survived": 0,
         "Pclass": 3,
         "Sex": "male",
         "Age": 22,
         "SibSp": 1,
         "Parch": 0,
         "Fare": 7.25,
         "Embarked": "S",
         "_deepnote_index_column": 0
        },
        {
         "Survived": 1,
         "Pclass": 1,
         "Sex": "female",
         "Age": 38,
         "SibSp": 1,
         "Parch": 0,
         "Fare": 71.2833,
         "Embarked": "C",
         "_deepnote_index_column": 1
        },
        {
         "Survived": 1,
         "Pclass": 3,
         "Sex": "female",
         "Age": 26,
         "SibSp": 0,
         "Parch": 0,
         "Fare": 7.925,
         "Embarked": "S",
         "_deepnote_index_column": 2
        },
        {
         "Survived": 1,
         "Pclass": 1,
         "Sex": "female",
         "Age": 35,
         "SibSp": 1,
         "Parch": 0,
         "Fare": 53.1,
         "Embarked": "S",
         "_deepnote_index_column": 3
        },
        {
         "Survived": 0,
         "Pclass": 3,
         "Sex": "male",
         "Age": 35,
         "SibSp": 0,
         "Parch": 0,
         "Fare": 8.05,
         "Embarked": "S",
         "_deepnote_index_column": 4
        }
       ],
       "rows_bottom": null
      },
      "text/plain": "   Survived  Pclass     Sex   Age  SibSp  Parch     Fare Embarked\n0         0       3    male  22.0      1      0   7.2500        S\n1         1       1  female  38.0      1      0  71.2833        C\n2         1       3  female  26.0      0      0   7.9250        S\n3         1       1  female  35.0      1      0  53.1000        S\n4         0       3    male  35.0      0      0   8.0500        S",
      "text/html": "<div>\n<style scoped>\n    .dataframe tbody tr th:only-of-type {\n        vertical-align: middle;\n    }\n\n    .dataframe tbody tr th {\n        vertical-align: top;\n    }\n\n    .dataframe thead th {\n        text-align: right;\n    }\n</style>\n<table border=\"1\" class=\"dataframe\">\n  <thead>\n    <tr style=\"text-align: right;\">\n      <th></th>\n      <th>Survived</th>\n      <th>Pclass</th>\n      <th>Sex</th>\n      <th>Age</th>\n      <th>SibSp</th>\n      <th>Parch</th>\n      <th>Fare</th>\n      <th>Embarked</th>\n    </tr>\n  </thead>\n  <tbody>\n    <tr>\n      <th>0</th>\n      <td>0</td>\n      <td>3</td>\n      <td>male</td>\n      <td>22.0</td>\n      <td>1</td>\n      <td>0</td>\n      <td>7.2500</td>\n      <td>S</td>\n    </tr>\n    <tr>\n      <th>1</th>\n      <td>1</td>\n      <td>1</td>\n      <td>female</td>\n      <td>38.0</td>\n      <td>1</td>\n      <td>0</td>\n      <td>71.2833</td>\n      <td>C</td>\n    </tr>\n    <tr>\n      <th>2</th>\n      <td>1</td>\n      <td>3</td>\n      <td>female</td>\n      <td>26.0</td>\n      <td>0</td>\n      <td>0</td>\n      <td>7.9250</td>\n      <td>S</td>\n    </tr>\n    <tr>\n      <th>3</th>\n      <td>1</td>\n      <td>1</td>\n      <td>female</td>\n      <td>35.0</td>\n      <td>1</td>\n      <td>0</td>\n      <td>53.1000</td>\n      <td>S</td>\n    </tr>\n    <tr>\n      <th>4</th>\n      <td>0</td>\n      <td>3</td>\n      <td>male</td>\n      <td>35.0</td>\n      <td>0</td>\n      <td>0</td>\n      <td>8.0500</td>\n      <td>S</td>\n    </tr>\n  </tbody>\n</table>\n</div>"
     },
     "metadata": {}
    }
   ]
  },
  {
   "cell_type": "code",
   "metadata": {
    "colab": {
     "base_uri": "https://localhost:8080/"
    },
    "id": "pCMJYlkS0dPX",
    "outputId": "688554b1-52df-4ada-da30-b33a67bae2f9",
    "cell_id": "00009-1c2bf61b-bc64-477b-8dd8-19da5411fd7f",
    "deepnote_to_be_reexecuted": false,
    "source_hash": "392a4d1f",
    "execution_start": 1634861235052,
    "execution_millis": 34,
    "deepnote_cell_type": "code"
   },
   "source": "#Se saca la media de edad\ntd['Age'].mean()",
   "execution_count": 8,
   "outputs": [
    {
     "output_type": "execute_result",
     "execution_count": 8,
     "data": {
      "text/plain": "29.69911764705882"
     },
     "metadata": {}
    }
   ]
  },
  {
   "cell_type": "code",
   "metadata": {
    "id": "6iy3beZI0zFb",
    "cell_id": "00010-c31dc754-854e-4d52-b533-f5f8333118ac",
    "deepnote_to_be_reexecuted": false,
    "source_hash": "411bf012",
    "execution_start": 1634861235053,
    "execution_millis": 0,
    "deepnote_cell_type": "code"
   },
   "source": "# Se reemplaza las 177 edades con la media \ntd['Age'].fillna(td['Age'].mean(), inplace=True)",
   "execution_count": 9,
   "outputs": []
  },
  {
   "cell_type": "code",
   "metadata": {
    "colab": {
     "base_uri": "https://localhost:8080/"
    },
    "id": "chp5LZUozt8s",
    "outputId": "f481acdf-7334-4429-8962-1e9855cc0465",
    "cell_id": "00011-06936186-6a20-4aa8-abe2-c1fc9c4fe9cf",
    "deepnote_to_be_reexecuted": false,
    "source_hash": "42b577bd",
    "execution_start": 1634861235054,
    "execution_millis": 33,
    "deepnote_cell_type": "code"
   },
   "source": "#Se encuentra la moda de Embarked\ntd['Embarked'].mode()",
   "execution_count": 10,
   "outputs": [
    {
     "output_type": "execute_result",
     "execution_count": 10,
     "data": {
      "text/plain": "0    S\ndtype: object"
     },
     "metadata": {}
    }
   ]
  },
  {
   "cell_type": "code",
   "metadata": {
    "id": "hnvoetf60WnU",
    "cell_id": "00012-1593ae1b-cac3-4f88-8d9a-293d71564614",
    "deepnote_to_be_reexecuted": false,
    "source_hash": "12532a7",
    "execution_start": 1634861235055,
    "execution_millis": 1,
    "deepnote_cell_type": "code"
   },
   "source": "# Se reemplaza en los dos espacios vacios\ntd['Embarked'].fillna(td['Embarked'].mode()[0], inplace=True)",
   "execution_count": 11,
   "outputs": []
  },
  {
   "cell_type": "code",
   "metadata": {
    "colab": {
     "base_uri": "https://localhost:8080/"
    },
    "id": "ok9d7NCW0guI",
    "outputId": "bf10f7cc-fbfe-4f0c-8b2e-819d852aa41c",
    "cell_id": "00013-ad45bdcd-c0ff-4012-bc13-16be83192ba7",
    "deepnote_to_be_reexecuted": false,
    "source_hash": "f95627ee",
    "execution_start": 1634861235103,
    "execution_millis": 1,
    "deepnote_cell_type": "code"
   },
   "source": "# Se verifica que no haya espacios vacios\ntd.isnull().sum()",
   "execution_count": 12,
   "outputs": [
    {
     "output_type": "execute_result",
     "execution_count": 12,
     "data": {
      "text/plain": "Survived    0\nPclass      0\nSex         0\nAge         0\nSibSp       0\nParch       0\nFare        0\nEmbarked    0\ndtype: int64"
     },
     "metadata": {}
    }
   ]
  },
  {
   "cell_type": "code",
   "metadata": {
    "colab": {
     "base_uri": "https://localhost:8080/",
     "height": 297
    },
    "id": "qtQL1Vmv2E-Y",
    "outputId": "9c2b2e45-6b96-4afe-9433-46ebbc3bfaa0",
    "cell_id": "00014-5efc8816-7468-484b-a859-25215e82434b",
    "deepnote_to_be_reexecuted": false,
    "source_hash": "8ddf0afc",
    "execution_start": 1634861235103,
    "execution_millis": 70,
    "deepnote_cell_type": "code"
   },
   "source": "# Analisis de Data\n#Se obtiene algunos datos estadisticos de Data\ntd.describe()",
   "execution_count": 13,
   "outputs": [
    {
     "output_type": "execute_result",
     "execution_count": 13,
     "data": {
      "application/vnd.deepnote.dataframe.v2+json": {
       "row_count": 8,
       "column_count": 6,
       "columns": [
        {
         "name": "Survived",
         "dtype": "float64",
         "stats": {
          "unique_count": 5,
          "nan_count": 0,
          "min": "0.0",
          "max": "891.0",
          "histogram": [
           {
            "bin_start": 0,
            "bin_end": 89.1,
            "count": 7
           },
           {
            "bin_start": 89.1,
            "bin_end": 178.2,
            "count": 0
           },
           {
            "bin_start": 178.2,
            "bin_end": 267.29999999999995,
            "count": 0
           },
           {
            "bin_start": 267.29999999999995,
            "bin_end": 356.4,
            "count": 0
           },
           {
            "bin_start": 356.4,
            "bin_end": 445.5,
            "count": 0
           },
           {
            "bin_start": 445.5,
            "bin_end": 534.5999999999999,
            "count": 0
           },
           {
            "bin_start": 534.5999999999999,
            "bin_end": 623.6999999999999,
            "count": 0
           },
           {
            "bin_start": 623.6999999999999,
            "bin_end": 712.8,
            "count": 0
           },
           {
            "bin_start": 712.8,
            "bin_end": 801.9,
            "count": 0
           },
           {
            "bin_start": 801.9,
            "bin_end": 891,
            "count": 1
           }
          ]
         }
        },
        {
         "name": "Pclass",
         "dtype": "float64",
         "stats": {
          "unique_count": 6,
          "nan_count": 0,
          "min": "0.836071240977049",
          "max": "891.0",
          "histogram": [
           {
            "bin_start": 0.836071240977049,
            "bin_end": 89.85246411687935,
            "count": 7
           },
           {
            "bin_start": 89.85246411687935,
            "bin_end": 178.86885699278164,
            "count": 0
           },
           {
            "bin_start": 178.86885699278164,
            "bin_end": 267.88524986868396,
            "count": 0
           },
           {
            "bin_start": 267.88524986868396,
            "bin_end": 356.90164274458624,
            "count": 0
           },
           {
            "bin_start": 356.90164274458624,
            "bin_end": 445.9180356204885,
            "count": 0
           },
           {
            "bin_start": 445.9180356204885,
            "bin_end": 534.9344284963909,
            "count": 0
           },
           {
            "bin_start": 534.9344284963909,
            "bin_end": 623.9508213722931,
            "count": 0
           },
           {
            "bin_start": 623.9508213722931,
            "bin_end": 712.9672142481954,
            "count": 0
           },
           {
            "bin_start": 712.9672142481954,
            "bin_end": 801.9836071240977,
            "count": 0
           },
           {
            "bin_start": 801.9836071240977,
            "bin_end": 891,
            "count": 1
           }
          ]
         }
        },
        {
         "name": "Age",
         "dtype": "float64",
         "stats": {
          "unique_count": 7,
          "nan_count": 0,
          "min": "0.42",
          "max": "891.0",
          "histogram": [
           {
            "bin_start": 0.42,
            "bin_end": 89.47800000000001,
            "count": 7
           },
           {
            "bin_start": 89.47800000000001,
            "bin_end": 178.536,
            "count": 0
           },
           {
            "bin_start": 178.536,
            "bin_end": 267.59400000000005,
            "count": 0
           },
           {
            "bin_start": 267.59400000000005,
            "bin_end": 356.65200000000004,
            "count": 0
           },
           {
            "bin_start": 356.65200000000004,
            "bin_end": 445.71000000000004,
            "count": 0
           },
           {
            "bin_start": 445.71000000000004,
            "bin_end": 534.768,
            "count": 0
           },
           {
            "bin_start": 534.768,
            "bin_end": 623.826,
            "count": 0
           },
           {
            "bin_start": 623.826,
            "bin_end": 712.884,
            "count": 0
           },
           {
            "bin_start": 712.884,
            "bin_end": 801.942,
            "count": 0
           },
           {
            "bin_start": 801.942,
            "bin_end": 891,
            "count": 1
           }
          ]
         }
        },
        {
         "name": "SibSp",
         "dtype": "float64",
         "stats": {
          "unique_count": 6,
          "nan_count": 0,
          "min": "0.0",
          "max": "891.0",
          "histogram": [
           {
            "bin_start": 0,
            "bin_end": 89.1,
            "count": 7
           },
           {
            "bin_start": 89.1,
            "bin_end": 178.2,
            "count": 0
           },
           {
            "bin_start": 178.2,
            "bin_end": 267.29999999999995,
            "count": 0
           },
           {
            "bin_start": 267.29999999999995,
            "bin_end": 356.4,
            "count": 0
           },
           {
            "bin_start": 356.4,
            "bin_end": 445.5,
            "count": 0
           },
           {
            "bin_start": 445.5,
            "bin_end": 534.5999999999999,
            "count": 0
           },
           {
            "bin_start": 534.5999999999999,
            "bin_end": 623.6999999999999,
            "count": 0
           },
           {
            "bin_start": 623.6999999999999,
            "bin_end": 712.8,
            "count": 0
           },
           {
            "bin_start": 712.8,
            "bin_end": 801.9,
            "count": 0
           },
           {
            "bin_start": 801.9,
            "bin_end": 891,
            "count": 1
           }
          ]
         }
        },
        {
         "name": "Parch",
         "dtype": "float64",
         "stats": {
          "unique_count": 5,
          "nan_count": 0,
          "min": "0.0",
          "max": "891.0",
          "histogram": [
           {
            "bin_start": 0,
            "bin_end": 89.1,
            "count": 7
           },
           {
            "bin_start": 89.1,
            "bin_end": 178.2,
            "count": 0
           },
           {
            "bin_start": 178.2,
            "bin_end": 267.29999999999995,
            "count": 0
           },
           {
            "bin_start": 267.29999999999995,
            "bin_end": 356.4,
            "count": 0
           },
           {
            "bin_start": 356.4,
            "bin_end": 445.5,
            "count": 0
           },
           {
            "bin_start": 445.5,
            "bin_end": 534.5999999999999,
            "count": 0
           },
           {
            "bin_start": 534.5999999999999,
            "bin_end": 623.6999999999999,
            "count": 0
           },
           {
            "bin_start": 623.6999999999999,
            "bin_end": 712.8,
            "count": 0
           },
           {
            "bin_start": 712.8,
            "bin_end": 801.9,
            "count": 0
           },
           {
            "bin_start": 801.9,
            "bin_end": 891,
            "count": 1
           }
          ]
         }
        },
        {
         "name": "Fare",
         "dtype": "float64",
         "stats": {
          "unique_count": 8,
          "nan_count": 0,
          "min": "0.0",
          "max": "891.0",
          "histogram": [
           {
            "bin_start": 0,
            "bin_end": 89.1,
            "count": 6
           },
           {
            "bin_start": 89.1,
            "bin_end": 178.2,
            "count": 0
           },
           {
            "bin_start": 178.2,
            "bin_end": 267.29999999999995,
            "count": 0
           },
           {
            "bin_start": 267.29999999999995,
            "bin_end": 356.4,
            "count": 0
           },
           {
            "bin_start": 356.4,
            "bin_end": 445.5,
            "count": 0
           },
           {
            "bin_start": 445.5,
            "bin_end": 534.5999999999999,
            "count": 1
           },
           {
            "bin_start": 534.5999999999999,
            "bin_end": 623.6999999999999,
            "count": 0
           },
           {
            "bin_start": 623.6999999999999,
            "bin_end": 712.8,
            "count": 0
           },
           {
            "bin_start": 712.8,
            "bin_end": 801.9,
            "count": 0
           },
           {
            "bin_start": 801.9,
            "bin_end": 891,
            "count": 1
           }
          ]
         }
        },
        {
         "name": "_deepnote_index_column",
         "dtype": "object"
        }
       ],
       "rows_top": [
        {
         "Survived": 891,
         "Pclass": 891,
         "Age": 891,
         "SibSp": 891,
         "Parch": 891,
         "Fare": 891,
         "_deepnote_index_column": "count"
        },
        {
         "Survived": 0.3838383838383838,
         "Pclass": 2.308641975308642,
         "Age": 29.69911764705882,
         "SibSp": 0.5230078563411896,
         "Parch": 0.38159371492704824,
         "Fare": 32.204207968574636,
         "_deepnote_index_column": "mean"
        },
        {
         "Survived": 0.4865924542648575,
         "Pclass": 0.836071240977049,
         "Age": 13.002015226002882,
         "SibSp": 1.1027434322934317,
         "Parch": 0.8060572211299483,
         "Fare": 49.6934285971809,
         "_deepnote_index_column": "std"
        },
        {
         "Survived": 0,
         "Pclass": 1,
         "Age": 0.42,
         "SibSp": 0,
         "Parch": 0,
         "Fare": 0,
         "_deepnote_index_column": "min"
        },
        {
         "Survived": 0,
         "Pclass": 2,
         "Age": 22,
         "SibSp": 0,
         "Parch": 0,
         "Fare": 7.9104,
         "_deepnote_index_column": "25%"
        },
        {
         "Survived": 0,
         "Pclass": 3,
         "Age": 29.69911764705882,
         "SibSp": 0,
         "Parch": 0,
         "Fare": 14.4542,
         "_deepnote_index_column": "50%"
        },
        {
         "Survived": 1,
         "Pclass": 3,
         "Age": 35,
         "SibSp": 1,
         "Parch": 0,
         "Fare": 31,
         "_deepnote_index_column": "75%"
        },
        {
         "Survived": 1,
         "Pclass": 3,
         "Age": 80,
         "SibSp": 8,
         "Parch": 6,
         "Fare": 512.3292,
         "_deepnote_index_column": "max"
        }
       ],
       "rows_bottom": null
      },
      "text/plain": "         Survived      Pclass         Age       SibSp       Parch        Fare\ncount  891.000000  891.000000  891.000000  891.000000  891.000000  891.000000\nmean     0.383838    2.308642   29.699118    0.523008    0.381594   32.204208\nstd      0.486592    0.836071   13.002015    1.102743    0.806057   49.693429\nmin      0.000000    1.000000    0.420000    0.000000    0.000000    0.000000\n25%      0.000000    2.000000   22.000000    0.000000    0.000000    7.910400\n50%      0.000000    3.000000   29.699118    0.000000    0.000000   14.454200\n75%      1.000000    3.000000   35.000000    1.000000    0.000000   31.000000\nmax      1.000000    3.000000   80.000000    8.000000    6.000000  512.329200",
      "text/html": "<div>\n<style scoped>\n    .dataframe tbody tr th:only-of-type {\n        vertical-align: middle;\n    }\n\n    .dataframe tbody tr th {\n        vertical-align: top;\n    }\n\n    .dataframe thead th {\n        text-align: right;\n    }\n</style>\n<table border=\"1\" class=\"dataframe\">\n  <thead>\n    <tr style=\"text-align: right;\">\n      <th></th>\n      <th>Survived</th>\n      <th>Pclass</th>\n      <th>Age</th>\n      <th>SibSp</th>\n      <th>Parch</th>\n      <th>Fare</th>\n    </tr>\n  </thead>\n  <tbody>\n    <tr>\n      <th>count</th>\n      <td>891.000000</td>\n      <td>891.000000</td>\n      <td>891.000000</td>\n      <td>891.000000</td>\n      <td>891.000000</td>\n      <td>891.000000</td>\n    </tr>\n    <tr>\n      <th>mean</th>\n      <td>0.383838</td>\n      <td>2.308642</td>\n      <td>29.699118</td>\n      <td>0.523008</td>\n      <td>0.381594</td>\n      <td>32.204208</td>\n    </tr>\n    <tr>\n      <th>std</th>\n      <td>0.486592</td>\n      <td>0.836071</td>\n      <td>13.002015</td>\n      <td>1.102743</td>\n      <td>0.806057</td>\n      <td>49.693429</td>\n    </tr>\n    <tr>\n      <th>min</th>\n      <td>0.000000</td>\n      <td>1.000000</td>\n      <td>0.420000</td>\n      <td>0.000000</td>\n      <td>0.000000</td>\n      <td>0.000000</td>\n    </tr>\n    <tr>\n      <th>25%</th>\n      <td>0.000000</td>\n      <td>2.000000</td>\n      <td>22.000000</td>\n      <td>0.000000</td>\n      <td>0.000000</td>\n      <td>7.910400</td>\n    </tr>\n    <tr>\n      <th>50%</th>\n      <td>0.000000</td>\n      <td>3.000000</td>\n      <td>29.699118</td>\n      <td>0.000000</td>\n      <td>0.000000</td>\n      <td>14.454200</td>\n    </tr>\n    <tr>\n      <th>75%</th>\n      <td>1.000000</td>\n      <td>3.000000</td>\n      <td>35.000000</td>\n      <td>1.000000</td>\n      <td>0.000000</td>\n      <td>31.000000</td>\n    </tr>\n    <tr>\n      <th>max</th>\n      <td>1.000000</td>\n      <td>3.000000</td>\n      <td>80.000000</td>\n      <td>8.000000</td>\n      <td>6.000000</td>\n      <td>512.329200</td>\n    </tr>\n  </tbody>\n</table>\n</div>"
     },
     "metadata": {}
    }
   ]
  },
  {
   "cell_type": "code",
   "metadata": {
    "colab": {
     "base_uri": "https://localhost:8080/",
     "height": 330
    },
    "id": "hbxrOpmE4jDK",
    "outputId": "0549603e-640d-4345-ae12-f7593ba2836a",
    "cell_id": "00015-4dcf23ee-9179-44fa-ba9d-9279623b0e21",
    "deepnote_to_be_reexecuted": false,
    "source_hash": "81575c80",
    "execution_start": 1634861235176,
    "execution_millis": 224,
    "deepnote_cell_type": "code"
   },
   "source": "# Grafico de Supervivencia\nsns.countplot(x='Survived', data=td)\ntd['Survived'].value_counts()",
   "execution_count": 14,
   "outputs": [
    {
     "output_type": "execute_result",
     "execution_count": 14,
     "data": {
      "text/plain": "0    549\n1    342\nName: Survived, dtype: int64"
     },
     "metadata": {}
    },
    {
     "data": {
      "text/plain": "<Figure size 432x288 with 1 Axes>",
      "image/png": "[encoded data removed]"
     },
     "metadata": {
      "needs_background": "light",
      "image/png": {
       "width": 389,
       "height": 262
      }
     },
     "output_type": "display_data"
    }
   ]
  },
  {
   "cell_type": "code",
   "metadata": {
    "colab": {
     "base_uri": "https://localhost:8080/",
     "height": 332
    },
    "id": "iZLGiokU4yMm",
    "outputId": "c7183659-d6c1-4b38-edb1-a0c7f3a75c9f",
    "cell_id": "00016-af818620-ba0e-4615-aa21-5e8d2fa509c3",
    "deepnote_to_be_reexecuted": false,
    "source_hash": "39c9cf63",
    "execution_start": 1634861235406,
    "execution_millis": 299,
    "deepnote_cell_type": "code"
   },
   "source": "#Conteo de personas por sexo\nsns.countplot(x='Sex', data=td)\ntd['Sex'].value_counts()",
   "execution_count": 15,
   "outputs": [
    {
     "output_type": "execute_result",
     "execution_count": 15,
     "data": {
      "text/plain": "male      577\nfemale    314\nName: Sex, dtype: int64"
     },
     "metadata": {}
    },
    {
     "data": {
      "text/plain": "<Figure size 432x288 with 1 Axes>",
      "image/png": "[encoded data removed]"
     },
     "metadata": {
      "needs_background": "light",
      "image/png": {
       "width": 389,
       "height": 264
      }
     },
     "output_type": "display_data"
    }
   ]
  },
  {
   "cell_type": "code",
   "metadata": {
    "colab": {
     "base_uri": "https://localhost:8080/",
     "height": 296
    },
    "id": "dpTT9Ff25pfV",
    "outputId": "4ca51180-b72e-459c-e2e6-304a372e78b0",
    "cell_id": "00017-94af03ae-0788-4b3e-8061-b823b7ce85fa",
    "deepnote_to_be_reexecuted": false,
    "source_hash": "f8aeaee5",
    "execution_start": 1634861235693,
    "execution_millis": 239,
    "deepnote_cell_type": "code"
   },
   "source": "#Numero de sobrevivientes por genero\nsns.countplot(x='Sex', hue='Survived', data=td)",
   "execution_count": 16,
   "outputs": [
    {
     "output_type": "execute_result",
     "execution_count": 16,
     "data": {
      "text/plain": "<AxesSubplot:xlabel='Sex', ylabel='count'>"
     },
     "metadata": {}
    },
    {
     "data": {
      "text/plain": "<Figure size 432x288 with 1 Axes>",
      "image/png": "[encoded data removed]"
     },
     "metadata": {
      "needs_background": "light",
      "image/png": {
       "width": 389,
       "height": 262
      }
     },
     "output_type": "display_data"
    }
   ]
  },
  {
   "cell_type": "code",
   "metadata": {
    "colab": {
     "base_uri": "https://localhost:8080/",
     "height": 296
    },
    "id": "V0kzdw4c56-W",
    "outputId": "cde95165-19c1-4af8-f91f-9085347d15e3",
    "cell_id": "00018-15526073-3251-42f9-ba7f-74715f875262",
    "deepnote_to_be_reexecuted": false,
    "source_hash": "e7bd3dfc",
    "execution_start": 1634861235966,
    "execution_millis": 229,
    "deepnote_cell_type": "code"
   },
   "source": "#Diferenciación por Clase\nsns.countplot(x='Pclass', data=td)",
   "execution_count": 17,
   "outputs": [
    {
     "output_type": "execute_result",
     "execution_count": 17,
     "data": {
      "text/plain": "<AxesSubplot:xlabel='Pclass', ylabel='count'>"
     },
     "metadata": {}
    },
    {
     "data": {
      "text/plain": "<Figure size 432x288 with 1 Axes>",
      "image/png": "[encoded data removed]"
     },
     "metadata": {
      "needs_background": "light",
      "image/png": {
       "width": 389,
       "height": 262
      }
     },
     "output_type": "display_data"
    }
   ]
  },
  {
   "cell_type": "code",
   "metadata": {
    "colab": {
     "base_uri": "https://localhost:8080/",
     "height": 296
    },
    "id": "67Q-bTMI6HYX",
    "outputId": "d3d5afd1-75e7-4806-c878-ccc63ef25459",
    "cell_id": "00019-bd6078fd-f757-424f-b07c-317f05b182cb",
    "deepnote_to_be_reexecuted": false,
    "source_hash": "ece035b",
    "execution_start": 1634861236201,
    "execution_millis": 312,
    "deepnote_cell_type": "code"
   },
   "source": "#Diferenciación de sobrevivencia por clase\n#Passenger ticket class where 1 = First class, 2 = Second class, 3 = Third class\nsns.countplot(x='Pclass', hue='Survived', data=td)",
   "execution_count": 18,
   "outputs": [
    {
     "output_type": "execute_result",
     "execution_count": 18,
     "data": {
      "text/plain": "<AxesSubplot:xlabel='Pclass', ylabel='count'>"
     },
     "metadata": {}
    },
    {
     "data": {
      "text/plain": "<Figure size 432x288 with 1 Axes>",
      "image/png": "[encoded data removed]"
     },
     "metadata": {
      "needs_background": "light",
      "image/png": {
       "width": 389,
       "height": 262
      }
     },
     "output_type": "display_data"
    }
   ]
  },
  {
   "cell_type": "code",
   "metadata": {
    "colab": {
     "base_uri": "https://localhost:8080/"
    },
    "id": "hhHU4nRM6bnr",
    "outputId": "28805a8d-a76b-4ec2-ebca-618be8853d29",
    "cell_id": "00020-8a1b143b-afdb-4de8-855f-17940f05c79b",
    "deepnote_to_be_reexecuted": false,
    "source_hash": "4244b803",
    "execution_start": 1634861236571,
    "execution_millis": 2,
    "deepnote_cell_type": "code"
   },
   "source": "# Convirtiendo las variables categoricas en numericas\n#Point of embarkation where C = Cherbourg, Q = Queenstown, S = Southampton\nprint(td['Sex'].value_counts())\nprint(td['Embarked'].value_counts())",
   "execution_count": 19,
   "outputs": [
    {
     "name": "stdout",
     "text": "male      577\nfemale    314\nName: Sex, dtype: int64\nS    646\nC    168\nQ     77\nName: Embarked, dtype: int64\n",
     "output_type": "stream"
    }
   ]
  },
  {
   "cell_type": "code",
   "metadata": {
    "id": "tqpKK5UK7CkW",
    "cell_id": "00021-37766c61-9a1f-4a9d-b13d-f7aa341a77a2",
    "deepnote_to_be_reexecuted": false,
    "source_hash": "803168a2",
    "execution_start": 1634861236572,
    "execution_millis": 0,
    "deepnote_cell_type": "code"
   },
   "source": "td.replace({'Sex':{'male':0,'female':1}, 'Embarked':{'S':0,'C':1,'Q':2}}, inplace=True)",
   "execution_count": 20,
   "outputs": []
  },
  {
   "cell_type": "code",
   "metadata": {
    "colab": {
     "base_uri": "https://localhost:8080/",
     "height": 204
    },
    "id": "WiWcWMNQ7Jhl",
    "outputId": "ce5a7f46-7775-439e-97e0-898a08584341",
    "cell_id": "00022-470d0ca2-b054-4177-927e-d3e245580d6b",
    "deepnote_to_be_reexecuted": false,
    "source_hash": "7f164aca",
    "execution_start": 1634861236615,
    "execution_millis": 0,
    "deepnote_cell_type": "code"
   },
   "source": "td.head()",
   "execution_count": 21,
   "outputs": [
    {
     "output_type": "execute_result",
     "execution_count": 21,
     "data": {
      "application/vnd.deepnote.dataframe.v2+json": {
       "row_count": 5,
       "column_count": 8,
       "columns": [
        {
         "name": "Survived",
         "dtype": "int64",
         "stats": {
          "unique_count": 2,
          "nan_count": 0,
          "min": "0",
          "max": "1",
          "histogram": [
           {
            "bin_start": 0,
            "bin_end": 0.1,
            "count": 2
           },
           {
            "bin_start": 0.1,
            "bin_end": 0.2,
            "count": 0
           },
           {
            "bin_start": 0.2,
            "bin_end": 0.30000000000000004,
            "count": 0
           },
           {
            "bin_start": 0.30000000000000004,
            "bin_end": 0.4,
            "count": 0
           },
           {
            "bin_start": 0.4,
            "bin_end": 0.5,
            "count": 0
           },
           {
            "bin_start": 0.5,
            "bin_end": 0.6000000000000001,
            "count": 0
           },
           {
            "bin_start": 0.6000000000000001,
            "bin_end": 0.7000000000000001,
            "count": 0
           },
           {
            "bin_start": 0.7000000000000001,
            "bin_end": 0.8,
            "count": 0
           },
           {
            "bin_start": 0.8,
            "bin_end": 0.9,
            "count": 0
           },
           {
            "bin_start": 0.9,
            "bin_end": 1,
            "count": 3
           }
          ]
         }
        },
        {
         "name": "Pclass",
         "dtype": "int64",
         "stats": {
          "unique_count": 2,
          "nan_count": 0,
          "min": "1",
          "max": "3",
          "histogram": [
           {
            "bin_start": 1,
            "bin_end": 1.2,
            "count": 2
           },
           {
            "bin_start": 1.2,
            "bin_end": 1.4,
            "count": 0
           },
           {
            "bin_start": 1.4,
            "bin_end": 1.6,
            "count": 0
           },
           {
            "bin_start": 1.6,
            "bin_end": 1.8,
            "count": 0
           },
           {
            "bin_start": 1.8,
            "bin_end": 2,
            "count": 0
           },
           {
            "bin_start": 2,
            "bin_end": 2.2,
            "count": 0
           },
           {
            "bin_start": 2.2,
            "bin_end": 2.4000000000000004,
            "count": 0
           },
           {
            "bin_start": 2.4000000000000004,
            "bin_end": 2.6,
            "count": 0
           },
           {
            "bin_start": 2.6,
            "bin_end": 2.8,
            "count": 0
           },
           {
            "bin_start": 2.8,
            "bin_end": 3,
            "count": 3
           }
          ]
         }
        },
        {
         "name": "Sex",
         "dtype": "int64",
         "stats": {
          "unique_count": 2,
          "nan_count": 0,
          "min": "0",
          "max": "1",
          "histogram": [
           {
            "bin_start": 0,
            "bin_end": 0.1,
            "count": 2
           },
           {
            "bin_start": 0.1,
            "bin_end": 0.2,
            "count": 0
           },
           {
            "bin_start": 0.2,
            "bin_end": 0.30000000000000004,
            "count": 0
           },
           {
            "bin_start": 0.30000000000000004,
            "bin_end": 0.4,
            "count": 0
           },
           {
            "bin_start": 0.4,
            "bin_end": 0.5,
            "count": 0
           },
           {
            "bin_start": 0.5,
            "bin_end": 0.6000000000000001,
            "count": 0
           },
           {
            "bin_start": 0.6000000000000001,
            "bin_end": 0.7000000000000001,
            "count": 0
           },
           {
            "bin_start": 0.7000000000000001,
            "bin_end": 0.8,
            "count": 0
           },
           {
            "bin_start": 0.8,
            "bin_end": 0.9,
            "count": 0
           },
           {
            "bin_start": 0.9,
            "bin_end": 1,
            "count": 3
           }
          ]
         }
        },
        {
         "name": "Age",
         "dtype": "float64",
         "stats": {
          "unique_count": 4,
          "nan_count": 0,
          "min": "22.0",
          "max": "38.0",
          "histogram": [
           {
            "bin_start": 22,
            "bin_end": 23.6,
            "count": 1
           },
           {
            "bin_start": 23.6,
            "bin_end": 25.2,
            "count": 0
           },
           {
            "bin_start": 25.2,
            "bin_end": 26.8,
            "count": 1
           },
           {
            "bin_start": 26.8,
            "bin_end": 28.4,
            "count": 0
           },
           {
            "bin_start": 28.4,
            "bin_end": 30,
            "count": 0
           },
           {
            "bin_start": 30,
            "bin_end": 31.6,
            "count": 0
           },
           {
            "bin_start": 31.6,
            "bin_end": 33.2,
            "count": 0
           },
           {
            "bin_start": 33.2,
            "bin_end": 34.8,
            "count": 0
           },
           {
            "bin_start": 34.8,
            "bin_end": 36.4,
            "count": 2
           },
           {
            "bin_start": 36.4,
            "bin_end": 38,
            "count": 1
           }
          ]
         }
        },
        {
         "name": "SibSp",
         "dtype": "int64",
         "stats": {
          "unique_count": 2,
          "nan_count": 0,
          "min": "0",
          "max": "1",
          "histogram": [
           {
            "bin_start": 0,
            "bin_end": 0.1,
            "count": 2
           },
           {
            "bin_start": 0.1,
            "bin_end": 0.2,
            "count": 0
           },
           {
            "bin_start": 0.2,
            "bin_end": 0.30000000000000004,
            "count": 0
           },
           {
            "bin_start": 0.30000000000000004,
            "bin_end": 0.4,
            "count": 0
           },
           {
            "bin_start": 0.4,
            "bin_end": 0.5,
            "count": 0
           },
           {
            "bin_start": 0.5,
            "bin_end": 0.6000000000000001,
            "count": 0
           },
           {
            "bin_start": 0.6000000000000001,
            "bin_end": 0.7000000000000001,
            "count": 0
           },
           {
            "bin_start": 0.7000000000000001,
            "bin_end": 0.8,
            "count": 0
           },
           {
            "bin_start": 0.8,
            "bin_end": 0.9,
            "count": 0
           },
           {
            "bin_start": 0.9,
            "bin_end": 1,
            "count": 3
           }
          ]
         }
        },
        {
         "name": "Parch",
         "dtype": "int64",
         "stats": {
          "unique_count": 1,
          "nan_count": 0,
          "min": "0",
          "max": "0",
          "histogram": [
           {
            "bin_start": -0.5,
            "bin_end": -0.4,
            "count": 0
           },
           {
            "bin_start": -0.4,
            "bin_end": -0.3,
            "count": 0
           },
           {
            "bin_start": -0.3,
            "bin_end": -0.19999999999999996,
            "count": 0
           },
           {
            "bin_start": -0.19999999999999996,
            "bin_end": -0.09999999999999998,
            "count": 0
           },
           {
            "bin_start": -0.09999999999999998,
            "bin_end": 0,
            "count": 0
           },
           {
            "bin_start": 0,
            "bin_end": 0.10000000000000009,
            "count": 5
           },
           {
            "bin_start": 0.10000000000000009,
            "bin_end": 0.20000000000000007,
            "count": 0
           },
           {
            "bin_start": 0.20000000000000007,
            "bin_end": 0.30000000000000004,
            "count": 0
           },
           {
            "bin_start": 0.30000000000000004,
            "bin_end": 0.4,
            "count": 0
           },
           {
            "bin_start": 0.4,
            "bin_end": 0.5,
            "count": 0
           }
          ]
         }
        },
        {
         "name": "Fare",
         "dtype": "float64",
         "stats": {
          "unique_count": 5,
          "nan_count": 0,
          "min": "7.25",
          "max": "71.2833",
          "histogram": [
           {
            "bin_start": 7.25,
            "bin_end": 13.65333,
            "count": 3
           },
           {
            "bin_start": 13.65333,
            "bin_end": 20.05666,
            "count": 0
           },
           {
            "bin_start": 20.05666,
            "bin_end": 26.459989999999998,
            "count": 0
           },
           {
            "bin_start": 26.459989999999998,
            "bin_end": 32.86332,
            "count": 0
           },
           {
            "bin_start": 32.86332,
            "bin_end": 39.26665,
            "count": 0
           },
           {
            "bin_start": 39.26665,
            "bin_end": 45.669979999999995,
            "count": 0
           },
           {
            "bin_start": 45.669979999999995,
            "bin_end": 52.07331,
            "count": 0
           },
           {
            "bin_start": 52.07331,
            "bin_end": 58.476639999999996,
            "count": 1
           },
           {
            "bin_start": 58.476639999999996,
            "bin_end": 64.87996999999999,
            "count": 0
           },
           {
            "bin_start": 64.87996999999999,
            "bin_end": 71.2833,
            "count": 1
           }
          ]
         }
        },
        {
         "name": "Embarked",
         "dtype": "int64",
         "stats": {
          "unique_count": 2,
          "nan_count": 0,
          "min": "0",
          "max": "1",
          "histogram": [
           {
            "bin_start": 0,
            "bin_end": 0.1,
            "count": 4
           },
           {
            "bin_start": 0.1,
            "bin_end": 0.2,
            "count": 0
           },
           {
            "bin_start": 0.2,
            "bin_end": 0.30000000000000004,
            "count": 0
           },
           {
            "bin_start": 0.30000000000000004,
            "bin_end": 0.4,
            "count": 0
           },
           {
            "bin_start": 0.4,
            "bin_end": 0.5,
            "count": 0
           },
           {
            "bin_start": 0.5,
            "bin_end": 0.6000000000000001,
            "count": 0
           },
           {
            "bin_start": 0.6000000000000001,
            "bin_end": 0.7000000000000001,
            "count": 0
           },
           {
            "bin_start": 0.7000000000000001,
            "bin_end": 0.8,
            "count": 0
           },
           {
            "bin_start": 0.8,
            "bin_end": 0.9,
            "count": 0
           },
           {
            "bin_start": 0.9,
            "bin_end": 1,
            "count": 1
           }
          ]
         }
        },
        {
         "name": "_deepnote_index_column",
         "dtype": "int64"
        }
       ],
       "rows_top": [
        {
         "Survived": 0,
         "Pclass": 3,
         "Sex": 0,
         "Age": 22,
         "SibSp": 1,
         "Parch": 0,
         "Fare": 7.25,
         "Embarked": 0,
         "_deepnote_index_column": 0
        },
        {
         "Survived": 1,
         "Pclass": 1,
         "Sex": 1,
         "Age": 38,
         "SibSp": 1,
         "Parch": 0,
         "Fare": 71.2833,
         "Embarked": 1,
         "_deepnote_index_column": 1
        },
        {
         "Survived": 1,
         "Pclass": 3,
         "Sex": 1,
         "Age": 26,
         "SibSp": 0,
         "Parch": 0,
         "Fare": 7.925,
         "Embarked": 0,
         "_deepnote_index_column": 2
        },
        {
         "Survived": 1,
         "Pclass": 1,
         "Sex": 1,
         "Age": 35,
         "SibSp": 1,
         "Parch": 0,
         "Fare": 53.1,
         "Embarked": 0,
         "_deepnote_index_column": 3
        },
        {
         "Survived": 0,
         "Pclass": 3,
         "Sex": 0,
         "Age": 35,
         "SibSp": 0,
         "Parch": 0,
         "Fare": 8.05,
         "Embarked": 0,
         "_deepnote_index_column": 4
        }
       ],
       "rows_bottom": null
      },
      "text/plain": "   Survived  Pclass  Sex   Age  SibSp  Parch     Fare  Embarked\n0         0       3    0  22.0      1      0   7.2500         0\n1         1       1    1  38.0      1      0  71.2833         1\n2         1       3    1  26.0      0      0   7.9250         0\n3         1       1    1  35.0      1      0  53.1000         0\n4         0       3    0  35.0      0      0   8.0500         0",
      "text/html": "<div>\n<style scoped>\n    .dataframe tbody tr th:only-of-type {\n        vertical-align: middle;\n    }\n\n    .dataframe tbody tr th {\n        vertical-align: top;\n    }\n\n    .dataframe thead th {\n        text-align: right;\n    }\n</style>\n<table border=\"1\" class=\"dataframe\">\n  <thead>\n    <tr style=\"text-align: right;\">\n      <th></th>\n      <th>Survived</th>\n      <th>Pclass</th>\n      <th>Sex</th>\n      <th>Age</th>\n      <th>SibSp</th>\n      <th>Parch</th>\n      <th>Fare</th>\n      <th>Embarked</th>\n    </tr>\n  </thead>\n  <tbody>\n    <tr>\n      <th>0</th>\n      <td>0</td>\n      <td>3</td>\n      <td>0</td>\n      <td>22.0</td>\n      <td>1</td>\n      <td>0</td>\n      <td>7.2500</td>\n      <td>0</td>\n    </tr>\n    <tr>\n      <th>1</th>\n      <td>1</td>\n      <td>1</td>\n      <td>1</td>\n      <td>38.0</td>\n      <td>1</td>\n      <td>0</td>\n      <td>71.2833</td>\n      <td>1</td>\n    </tr>\n    <tr>\n      <th>2</th>\n      <td>1</td>\n      <td>3</td>\n      <td>1</td>\n      <td>26.0</td>\n      <td>0</td>\n      <td>0</td>\n      <td>7.9250</td>\n      <td>0</td>\n    </tr>\n    <tr>\n      <th>3</th>\n      <td>1</td>\n      <td>1</td>\n      <td>1</td>\n      <td>35.0</td>\n      <td>1</td>\n      <td>0</td>\n      <td>53.1000</td>\n      <td>0</td>\n    </tr>\n    <tr>\n      <th>4</th>\n      <td>0</td>\n      <td>3</td>\n      <td>0</td>\n      <td>35.0</td>\n      <td>0</td>\n      <td>0</td>\n      <td>8.0500</td>\n      <td>0</td>\n    </tr>\n  </tbody>\n</table>\n</div>"
     },
     "metadata": {}
    }
   ]
  },
  {
   "cell_type": "code",
   "metadata": {
    "id": "BpbwopDw7cAi",
    "cell_id": "00023-37271e30-3b17-4b56-891e-95c662ad4893",
    "deepnote_to_be_reexecuted": false,
    "source_hash": "63885b6c",
    "execution_start": 1634861236671,
    "deepnote_cell_type": "code"
   },
   "source": "#Categorizando y eliminando columnas que no apo\nY=td['Survived']\ntd = td.drop(columns = 'Survived', axis=1)\ntd.head()\nX=td\n",
   "execution_count": 22,
   "outputs": []
  },
  {
   "cell_type": "code",
   "metadata": {
    "colab": {
     "base_uri": "https://localhost:8080/"
    },
    "id": "Wkxxlu14FYYp",
    "outputId": "a5b00995-3503-4446-871f-4de04a0b3cbe",
    "cell_id": "00024-1fed78d5-231e-4bce-8ca4-720449af53f0",
    "deepnote_to_be_reexecuted": false,
    "source_hash": "5da79852",
    "execution_start": 1634861236672,
    "deepnote_cell_type": "code"
   },
   "source": "print(X)",
   "execution_count": 23,
   "outputs": [
    {
     "name": "stdout",
     "text": "     Pclass  Sex        Age  SibSp  Parch     Fare  Embarked\n0         3    0  22.000000      1      0   7.2500         0\n1         1    1  38.000000      1      0  71.2833         1\n2         3    1  26.000000      0      0   7.9250         0\n3         1    1  35.000000      1      0  53.1000         0\n4         3    0  35.000000      0      0   8.0500         0\n..      ...  ...        ...    ...    ...      ...       ...\n886       2    0  27.000000      0      0  13.0000         0\n887       1    1  19.000000      0      0  30.0000         0\n888       3    1  29.699118      1      2  23.4500         0\n889       1    0  26.000000      0      0  30.0000         1\n890       3    0  32.000000      0      0   7.7500         2\n\n[891 rows x 7 columns]\n",
     "output_type": "stream"
    }
   ]
  },
  {
   "cell_type": "code",
   "metadata": {
    "colab": {
     "base_uri": "https://localhost:8080/"
    },
    "id": "JMBB7qgbFhbN",
    "outputId": "f1ae0700-5729-4a52-9ea3-76cc7de7a268",
    "cell_id": "00025-c79446e1-2995-4f14-a2a4-34e9a3d61953",
    "deepnote_to_be_reexecuted": false,
    "source_hash": "37b7e4bb",
    "execution_start": 1634861236673,
    "deepnote_cell_type": "code"
   },
   "source": "print(Y)",
   "execution_count": 24,
   "outputs": [
    {
     "name": "stdout",
     "text": "0      0\n1      1\n2      1\n3      1\n4      0\n      ..\n886    0\n887    1\n888    0\n889    1\n890    0\nName: Survived, Length: 891, dtype: int64\n",
     "output_type": "stream"
    }
   ]
  },
  {
   "cell_type": "code",
   "metadata": {
    "id": "0hTHWXzPFnDO",
    "cell_id": "00026-70027dc4-de86-4a4d-be7e-764e19fc44f7",
    "deepnote_to_be_reexecuted": false,
    "source_hash": "1d5b40ac",
    "execution_start": 1634861236731,
    "deepnote_cell_type": "code"
   },
   "source": "#Splitting the data into training data & Test data\nX_train, X_test, Y_train, Y_test = train_test_split(X,Y, test_size=0.2, random_state=2)",
   "execution_count": 25,
   "outputs": []
  },
  {
   "cell_type": "code",
   "metadata": {
    "colab": {
     "base_uri": "https://localhost:8080/"
    },
    "id": "i3PHLgT8GiFH",
    "outputId": "275dea55-9394-4f1c-df9c-bcfeaca34af7",
    "cell_id": "00027-6e987319-8ce2-42fa-b048-9f01f397effc",
    "deepnote_to_be_reexecuted": false,
    "source_hash": "c20c5844",
    "execution_start": 1634861236732,
    "deepnote_cell_type": "code"
   },
   "source": "print(X.shape, X_train.shape, X_test.shape,Y_train.shape,Y_test.shape)",
   "execution_count": 26,
   "outputs": [
    {
     "name": "stdout",
     "text": "(891, 7) (712, 7) (179, 7) (712,) (179,)\n",
     "output_type": "stream"
    }
   ]
  },
  {
   "cell_type": "code",
   "metadata": {
    "id": "PBlgmv0CIRQd",
    "cell_id": "00028-891db8c4-6fd1-4277-85fe-0f1730447437",
    "deepnote_to_be_reexecuted": false,
    "source_hash": "7a058d4b",
    "execution_start": 1634861236732,
    "deepnote_cell_type": "code"
   },
   "source": "# Se usará regresión logistica\nmodel = LogisticRegression()",
   "execution_count": 27,
   "outputs": []
  },
  {
   "cell_type": "code",
   "metadata": {
    "colab": {
     "base_uri": "https://localhost:8080/"
    },
    "id": "_57aQEkLIbuh",
    "outputId": "824020db-651c-4da8-f651-b23b5c2c365f",
    "cell_id": "00029-e65ae337-56db-4537-a46a-b49c44ebf103",
    "deepnote_to_be_reexecuted": false,
    "source_hash": "c84ec68b",
    "execution_start": 1634861236733,
    "execution_millis": 42,
    "deepnote_cell_type": "code"
   },
   "source": "# training the Logistic Regression model with training data\nmodel.fit(X_train, Y_train)",
   "execution_count": 28,
   "outputs": [
    {
     "name": "stderr",
     "text": "/shared-libs/python3.7/py/lib/python3.7/site-packages/sklearn/linear_model/_logistic.py:818: ConvergenceWarning: lbfgs failed to converge (status=1):\nSTOP: TOTAL NO. of ITERATIONS REACHED LIMIT.\n\nIncrease the number of iterations (max_iter) or scale the data as shown in:\n    https://scikit-learn.org/stable/modules/preprocessing.html\nPlease also refer to the documentation for alternative solver options:\n    https://scikit-learn.org/stable/modules/linear_model.html#logistic-regression\n  extra_warning_msg=_LOGISTIC_SOLVER_CONVERGENCE_MSG,\n",
     "output_type": "stream"
    },
    {
     "output_type": "execute_result",
     "execution_count": 28,
     "data": {
      "text/plain": "LogisticRegression()"
     },
     "metadata": {}
    }
   ]
  },
  {
   "cell_type": "code",
   "metadata": {
    "colab": {
     "base_uri": "https://localhost:8080/"
    },
    "id": "m__YWnSCJib5",
    "outputId": "f6cdaca0-45d5-472b-bc55-2b284f392b07",
    "cell_id": "00030-606242e6-b99d-49e1-b31d-2bde436e96fa",
    "deepnote_to_be_reexecuted": false,
    "source_hash": "4d5cca42",
    "execution_start": 1634861236779,
    "execution_millis": 1,
    "deepnote_cell_type": "code"
   },
   "source": "#Evaluación del Modelo\n#Precisión del modelo\nX_train_prediction = model.predict(X_train)\ntraining_data_accuracy = accuracy_score(Y_train, X_train_prediction)\nprint('Accuracy score of training data : ', training_data_accuracy)\n",
   "execution_count": 29,
   "outputs": [
    {
     "name": "stdout",
     "text": "Accuracy score of training data :  0.8075842696629213\n",
     "output_type": "stream"
    }
   ]
  },
  {
   "cell_type": "code",
   "metadata": {
    "colab": {
     "base_uri": "https://localhost:8080/"
    },
    "id": "yetzT8tFRzHa",
    "outputId": "81cdf795-020d-49e8-f010-c86010a1b958",
    "cell_id": "00031-a091bcea-5cc2-4ace-9aa8-f0bb5716bf53",
    "deepnote_to_be_reexecuted": false,
    "source_hash": "5da8cbdd",
    "execution_start": 1634861236831,
    "execution_millis": 1,
    "deepnote_cell_type": "code"
   },
   "source": "X_test_prediction = model.predict(X_test)\ntest_data_accuracy = accuracy_score(Y_test, X_test_prediction)\nprint('Accuracy score of test data : ', test_data_accuracy)",
   "execution_count": 30,
   "outputs": [
    {
     "name": "stdout",
     "text": "Accuracy score of test data :  0.7821229050279329\n",
     "output_type": "stream"
    }
   ]
  },
  {
   "cell_type": "markdown",
   "source": "<a style='text-decoration:none;line-height:16px;display:flex;color:#5B5B62;padding:10px;justify-content:end;' href='https://deepnote.com?utm_source=created-in-deepnote-cell&projectId=f35350a5-8ccb-489a-a442-769d80a9f564' target=\"_blank\">\n<img alt='Created in deepnote.com' style='display:inline;max-height:16px;margin:0px;margin-right:7.5px;' src='data:image/svg+xml;base64,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' > </img>\nCreated in <span style='font-weight:600;margin-left:4px;'>Deepnote</span></a>",
   "metadata": {
    "tags": [],
    "created_in_deepnote_cell": true,
    "deepnote_cell_type": "markdown"
   }
  }
 ],
 "nbformat": 4,
 "nbformat_minor": 0,
 "metadata": {
  "colab": {
   "name": "code.ipynb",
   "provenance": [],
   "collapsed_sections": []
  },
  "kernelspec": {
   "name": "python3",
   "display_name": "Python 3"
  },
  "language_info": {
   "name": "python"
  },
  "deepnote_notebook_id": "9d0be492-3ccd-41e0-a69d-a09e0cc11431",
  "deepnote": {},
  "deepnote_execution_queue": []
 }
}